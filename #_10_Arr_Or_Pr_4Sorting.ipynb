{
  "nbformat": 4,
  "nbformat_minor": 0,
  "metadata": {
    "colab": {
      "provenance": [],
      "authorship_tag": "ABX9TyM6Yo3feZ+kNGpgeWwCX0DU",
      "include_colab_link": true
    },
    "kernelspec": {
      "name": "python3",
      "display_name": "Python 3"
    },
    "language_info": {
      "name": "python"
    }
  },
  "cells": [
    {
      "cell_type": "markdown",
      "metadata": {
        "id": "view-in-github",
        "colab_type": "text"
      },
      "source": [
        "<a href=\"https://colab.research.google.com/github/Az1mxoja/Colab/blob/main/%23_10_Arr_Or_Pr_4Sorting.ipynb\" target=\"_parent\"><img src=\"https://colab.research.google.com/assets/colab-badge.svg\" alt=\"Open In Colab\"/></a>"
      ]
    },
    {
      "cell_type": "markdown",
      "source": [
        "Massivga yo'naltirilgan dasturlash"
      ],
      "metadata": {
        "id": "einKO35mreSG"
      }
    },
    {
      "cell_type": "markdown",
      "source": [
        "Tartiblash (`Sorting`)"
      ],
      "metadata": {
        "id": "XCDv1iRGrsxb"
      }
    },
    {
      "cell_type": "code",
      "source": [
        "import numpy as np"
      ],
      "metadata": {
        "id": "1zEaXm3drdtM"
      },
      "execution_count": 1,
      "outputs": []
    },
    {
      "cell_type": "code",
      "execution_count": 3,
      "metadata": {
        "colab": {
          "base_uri": "https://localhost:8080/"
        },
        "id": "k_9EWi7DenWe",
        "outputId": "128f506c-67e2-4edd-a8a5-a02b40617c8d"
      },
      "outputs": [
        {
          "output_type": "execute_result",
          "data": {
            "text/plain": [
              "array([0.62108766, 0.63060896, 0.94077961, 0.39333456])"
            ]
          },
          "metadata": {},
          "execution_count": 3
        }
      ],
      "source": [
        "# data\n",
        "arr = np.random.rand(4) # 4 ta taxminiy elementlardan iborat massiv\n",
        "arr"
      ]
    },
    {
      "cell_type": "markdown",
      "source": [
        "`sort` funksiyasi"
      ],
      "metadata": {
        "id": "fqSQM-7auNir"
      }
    },
    {
      "cell_type": "code",
      "source": [
        "# 1-usul\n",
        "sorted_arr = np.sort(arr) #arr'ni yangi array'da tartiblangan versiyasi\n",
        "sorted_arr"
      ],
      "metadata": {
        "colab": {
          "base_uri": "https://localhost:8080/"
        },
        "id": "chfEeF4Gt8r6",
        "outputId": "00cf4fcd-1b3a-4256-c03c-9aca2a5eaa9f"
      },
      "execution_count": 7,
      "outputs": [
        {
          "output_type": "execute_result",
          "data": {
            "text/plain": [
              "array([0.39333456, 0.62108766, 0.63060896, 0.94077961])"
            ]
          },
          "metadata": {},
          "execution_count": 7
        }
      ]
    },
    {
      "cell_type": "code",
      "source": [
        "# 2-usul\n",
        "arr.sort()\n",
        "arr"
      ],
      "metadata": {
        "colab": {
          "base_uri": "https://localhost:8080/"
        },
        "id": "92bEqxWSunm6",
        "outputId": "2c4681c8-aa5f-42db-e7d3-f9b785421756"
      },
      "execution_count": 8,
      "outputs": [
        {
          "output_type": "execute_result",
          "data": {
            "text/plain": [
              "array([0.39333456, 0.62108766, 0.63060896, 0.94077961])"
            ]
          },
          "metadata": {},
          "execution_count": 8
        }
      ]
    },
    {
      "cell_type": "code",
      "source": [
        "# teskari tartiblash\n",
        "rev_arr = -np.sort(-arr) # teskari tartiblangan arr\n",
        "rev_arr"
      ],
      "metadata": {
        "colab": {
          "base_uri": "https://localhost:8080/"
        },
        "id": "gXbDKvgbvP9K",
        "outputId": "e3250c6e-bad0-4d92-bf6c-871948e4e56c"
      },
      "execution_count": 10,
      "outputs": [
        {
          "output_type": "execute_result",
          "data": {
            "text/plain": [
              "array([0.94077961, 0.63060896, 0.62108766, 0.39333456])"
            ]
          },
          "metadata": {},
          "execution_count": 10
        }
      ]
    },
    {
      "cell_type": "code",
      "source": [
        "# 2D array (massiv)\n",
        "arr2d = np.random.randn(2, 4) # (2, 4) random massiv\n",
        "arr2d"
      ],
      "metadata": {
        "colab": {
          "base_uri": "https://localhost:8080/"
        },
        "id": "rG-yddnmvrQR",
        "outputId": "3e97091a-8087-46a6-8cfc-acc20d230cb3"
      },
      "execution_count": 15,
      "outputs": [
        {
          "output_type": "execute_result",
          "data": {
            "text/plain": [
              "array([[-1.33724424,  0.52937245, -0.0734303 , -1.54214007],\n",
              "       [-0.2841463 , -0.49711379, -0.46222778,  0.10955828]])"
            ]
          },
          "metadata": {},
          "execution_count": 15
        }
      ]
    },
    {
      "cell_type": "code",
      "source": [
        "# axis = 0 -> Qator o'qi\n",
        "row_srt = np.sort(arr2d, axis = 0)\n",
        "row_srt"
      ],
      "metadata": {
        "colab": {
          "base_uri": "https://localhost:8080/"
        },
        "id": "U38lDSyVwN5J",
        "outputId": "a3d1c0e0-4d3f-45c2-e53b-8c8e42d5b501"
      },
      "execution_count": 16,
      "outputs": [
        {
          "output_type": "execute_result",
          "data": {
            "text/plain": [
              "array([[-1.33724424, -0.49711379, -0.46222778, -1.54214007],\n",
              "       [-0.2841463 ,  0.52937245, -0.0734303 ,  0.10955828]])"
            ]
          },
          "metadata": {},
          "execution_count": 16
        }
      ]
    },
    {
      "cell_type": "code",
      "source": [
        "# axis = 1 -> Ustun o'qi\n",
        "col_srt = np.sort(arr2d, axis = 1)\n",
        "col_srt"
      ],
      "metadata": {
        "colab": {
          "base_uri": "https://localhost:8080/"
        },
        "id": "qeKu8J58wzyQ",
        "outputId": "125390aa-0387-4639-c439-c1ec95443377"
      },
      "execution_count": 17,
      "outputs": [
        {
          "output_type": "execute_result",
          "data": {
            "text/plain": [
              "array([[-1.54214007, -1.33724424, -0.0734303 ,  0.52937245],\n",
              "       [-0.49711379, -0.46222778, -0.2841463 ,  0.10955828]])"
            ]
          },
          "metadata": {},
          "execution_count": 17
        }
      ]
    },
    {
      "cell_type": "code",
      "source": [],
      "metadata": {
        "id": "4JCS_Qh7xbE5"
      },
      "execution_count": null,
      "outputs": []
    }
  ]
}