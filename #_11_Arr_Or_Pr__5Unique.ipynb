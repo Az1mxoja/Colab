{
  "nbformat": 4,
  "nbformat_minor": 0,
  "metadata": {
    "colab": {
      "provenance": [],
      "authorship_tag": "ABX9TyOBy3sMHB5wQRcJ4E2zAImp",
      "include_colab_link": true
    },
    "kernelspec": {
      "name": "python3",
      "display_name": "Python 3"
    },
    "language_info": {
      "name": "python"
    }
  },
  "cells": [
    {
      "cell_type": "markdown",
      "metadata": {
        "id": "view-in-github",
        "colab_type": "text"
      },
      "source": [
        "<a href=\"https://colab.research.google.com/github/Az1mxoja/Colab/blob/main/%23_11_Arr_Or_Pr__5Unique.ipynb\" target=\"_parent\"><img src=\"https://colab.research.google.com/assets/colab-badge.svg\" alt=\"Open In Colab\"/></a>"
      ]
    },
    {
      "cell_type": "markdown",
      "source": [
        "Massivga yo'naltirilgan dasturlash"
      ],
      "metadata": {
        "id": "ATupiXxe2_wH"
      }
    },
    {
      "cell_type": "code",
      "execution_count": 1,
      "metadata": {
        "id": "MCyDb91Uzh2y"
      },
      "outputs": [],
      "source": [
        "import numpy as np\n"
      ]
    },
    {
      "cell_type": "markdown",
      "source": [
        "`unique` va `in1d` `setdiff1d` va boshqa usullar"
      ],
      "metadata": {
        "id": "dPAO0ig03JrM"
      }
    },
    {
      "cell_type": "code",
      "source": [
        "# data\n",
        "names = np.array(['Sarvar', 'Abudrahmon', 'Hasan', 'Temur', 'Sarvar', 'Temur'])\n",
        "ints = np.array([3, 3, 3, 2, 2, 1, 1, 4, 4])"
      ],
      "metadata": {
        "id": "QOPOBj_h3HkF"
      },
      "execution_count": 3,
      "outputs": []
    },
    {
      "cell_type": "markdown",
      "source": [
        "`unique` metodi"
      ],
      "metadata": {
        "id": "EnjLgpBU5T3r"
      }
    },
    {
      "cell_type": "code",
      "source": [
        "# unique\n",
        "np.unique(names) # names'dagi takrorlanmas elementlarni qaytaradi (yoki takroriy elementning 1 tasini qaytaradi)"
      ],
      "metadata": {
        "colab": {
          "base_uri": "https://localhost:8080/"
        },
        "id": "ZZna2NVZ3yGt",
        "outputId": "0d07e2c4-1928-4101-dce9-248a9261bc08"
      },
      "execution_count": 5,
      "outputs": [
        {
          "output_type": "execute_result",
          "data": {
            "text/plain": [
              "array(['Abudrahmon', 'Hasan', 'Sarvar', 'Temur'], dtype='<U10')"
            ]
          },
          "metadata": {},
          "execution_count": 5
        }
      ]
    },
    {
      "cell_type": "markdown",
      "source": [
        "`in1d` metodi"
      ],
      "metadata": {
        "id": "ecAPXLS25S2V"
      }
    },
    {
      "cell_type": "code",
      "source": [
        "# data\n",
        "arr1 = np.array([5, 6, 2, 4, 1, 0, 5, 5, 6])\n",
        "arr2 = np.array([2, 5, 0])"
      ],
      "metadata": {
        "id": "F7XCD4zv4gnE"
      },
      "execution_count": 6,
      "outputs": []
    },
    {
      "cell_type": "code",
      "source": [
        "np.in1d(arr1, arr2) #1-arrayda 2-arraydagi ma'lumotlar bor/yo'qligini tekshiradi"
      ],
      "metadata": {
        "colab": {
          "base_uri": "https://localhost:8080/"
        },
        "id": "UoZoAbey6TrD",
        "outputId": "70a161d9-b339-4780-e665-b4fe64e950d7"
      },
      "execution_count": 8,
      "outputs": [
        {
          "output_type": "execute_result",
          "data": {
            "text/plain": [
              "array([ True, False,  True, False, False,  True,  True,  True, False])"
            ]
          },
          "metadata": {},
          "execution_count": 8
        }
      ]
    },
    {
      "cell_type": "markdown",
      "source": [
        "`setdiff1d` metodi"
      ],
      "metadata": {
        "id": "8afCWTMj7X0L"
      }
    },
    {
      "cell_type": "code",
      "source": [
        "names1 = np.array(['Abdurahmon', 'Sarvar', 'Muhammad', 'Komil', 'Jamshid', 'Ali'])\n",
        "names2 = np.array(['Jasur', 'Abdurahmon', 'Sarvar', 'Komil', 'Ali', 'Kamol' ])"
      ],
      "metadata": {
        "id": "9zZhfdf56Yfr"
      },
      "execution_count": 11,
      "outputs": []
    },
    {
      "cell_type": "code",
      "source": [
        "np.setdiff1d(names1, names2) # 1-massivning 2-massivdagi takrorlanmas qismini qaytaradi"
      ],
      "metadata": {
        "colab": {
          "base_uri": "https://localhost:8080/"
        },
        "id": "P9adKl6m8-cZ",
        "outputId": "5ed26bdc-8f16-43cd-c3be-a9ecd7ff1398"
      },
      "execution_count": 13,
      "outputs": [
        {
          "output_type": "execute_result",
          "data": {
            "text/plain": [
              "array(['Jamshid', 'Muhammad'], dtype='<U10')"
            ]
          },
          "metadata": {},
          "execution_count": 13
        }
      ]
    }
  ]
}