{
  "nbformat": 4,
  "nbformat_minor": 0,
  "metadata": {
    "colab": {
      "provenance": [],
      "collapsed_sections": [],
      "authorship_tag": "ABX9TyPgh0Cx1tv6Z9PGHzxSSc3i",
      "include_colab_link": true
    },
    "kernelspec": {
      "name": "python3",
      "display_name": "Python 3"
    },
    "language_info": {
      "name": "python"
    }
  },
  "cells": [
    {
      "cell_type": "markdown",
      "metadata": {
        "id": "view-in-github",
        "colab_type": "text"
      },
      "source": [
        "<a href=\"https://colab.research.google.com/github/Az1mxoja/Colab/blob/main/numpy_intro.ipynb\" target=\"_parent\"><img src=\"https://colab.research.google.com/assets/colab-badge.svg\" alt=\"Open In Colab\"/></a>"
      ]
    },
    {
      "cell_type": "markdown",
      "source": [
        "python list & numpy array'da 0~99999 oralig'ida bo'lgan sonlar ro'yxatini yaratib olish"
      ],
      "metadata": {
        "id": "6GAQjpXbJYbh"
      }
    },
    {
      "cell_type": "code",
      "execution_count": 1,
      "metadata": {
        "id": "TH-Cd9cKGWeI"
      },
      "outputs": [],
      "source": [
        "import numpy as np"
      ]
    },
    {
      "cell_type": "code",
      "source": [
        "my_list = list(range(100000)) # python list 0~99999 --> Normal\n",
        "my_array = np.array(range(100000)) # numpy array(massiv) 0~99999 -- vektorlashgan"
      ],
      "metadata": {
        "id": "JHV0cUlFGbeL"
      },
      "execution_count": 3,
      "outputs": []
    },
    {
      "cell_type": "markdown",
      "source": [
        "**python list** ichidagi sonlarni har birini 2 ga ko'paytirish uchun ketgan vaqt"
      ],
      "metadata": {
        "id": "Mbmx4zsNKG2-"
      }
    },
    {
      "cell_type": "code",
      "source": [
        "%time for _ in range(10): [x*2 for x in my_list]"
      ],
      "metadata": {
        "colab": {
          "base_uri": "https://localhost:8080/"
        },
        "id": "nlhByqECHi6a",
        "outputId": "cd486a11-2f46-4977-d294-5f9d909473a3"
      },
      "execution_count": 4,
      "outputs": [
        {
          "output_type": "stream",
          "name": "stdout",
          "text": [
            "CPU times: user 51 ms, sys: 12.1 ms, total: 63.1 ms\n",
            "Wall time: 66.3 ms\n"
          ]
        }
      ]
    },
    {
      "cell_type": "markdown",
      "source": [
        "**numpay array** ichidagi sonlarni har birini 2 ga ko'paytirish uchun ketgan vaqt"
      ],
      "metadata": {
        "id": "KtW7KomLKxTn"
      }
    },
    {
      "cell_type": "code",
      "source": [
        "%time for _ in range(10): my_array*2"
      ],
      "metadata": {
        "colab": {
          "base_uri": "https://localhost:8080/"
        },
        "id": "sfG0ZcypIuWa",
        "outputId": "66abab76-4b01-4556-a62b-686ad7789c4e"
      },
      "execution_count": 9,
      "outputs": [
        {
          "output_type": "stream",
          "name": "stdout",
          "text": [
            "CPU times: user 890 µs, sys: 1.02 ms, total: 1.91 ms\n",
            "Wall time: 1.64 ms\n"
          ]
        }
      ]
    },
    {
      "cell_type": "markdown",
      "source": [
        "**python**'ga qaraganda **numpy** 40.42 marta tezroq ekan"
      ],
      "metadata": {
        "id": "oJDLwpXvLJJX"
      }
    },
    {
      "cell_type": "code",
      "source": [
        "66.3/1.64"
      ],
      "metadata": {
        "colab": {
          "base_uri": "https://localhost:8080/"
        },
        "id": "EJbzyYDCI3mC",
        "outputId": "56699e62-9b67-4f0d-cef5-c49776347165"
      },
      "execution_count": 10,
      "outputs": [
        {
          "output_type": "execute_result",
          "data": {
            "text/plain": [
              "40.426829268292686"
            ]
          },
          "metadata": {},
          "execution_count": 10
        }
      ]
    },
    {
      "cell_type": "code",
      "source": [],
      "metadata": {
        "id": "6HBhxax5JI-E"
      },
      "execution_count": null,
      "outputs": []
    }
  ]
}