{
  "nbformat": 4,
  "nbformat_minor": 0,
  "metadata": {
    "colab": {
      "provenance": [],
      "collapsed_sections": [],
      "authorship_tag": "ABX9TyMWAs8rvjO7ZDzIUI6P/FwU",
      "include_colab_link": true
    },
    "kernelspec": {
      "name": "python3",
      "display_name": "Python 3"
    },
    "language_info": {
      "name": "python"
    }
  },
  "cells": [
    {
      "cell_type": "markdown",
      "metadata": {
        "id": "view-in-github",
        "colab_type": "text"
      },
      "source": [
        "<a href=\"https://colab.research.google.com/github/Az1mxoja/Colab/blob/main/%23_4_Boolean_indexing.ipynb\" target=\"_parent\"><img src=\"https://colab.research.google.com/assets/colab-badge.svg\" alt=\"Open In Colab\"/></a>"
      ]
    },
    {
      "cell_type": "code",
      "execution_count": 102,
      "metadata": {
        "id": "pP-L7QcEeg4m"
      },
      "outputs": [],
      "source": [
        "import numpy as np\n",
        "import random"
      ]
    },
    {
      "cell_type": "markdown",
      "source": [
        "Boolean index'lash\n",
        "\n",
        "- N-o'lchamli massivlar (array)ga ishlov berish "
      ],
      "metadata": {
        "id": "AyFIkgULexbo"
      }
    },
    {
      "cell_type": "code",
      "source": [
        "# Ismlar\n",
        "names = np.array(['Ilhom', 'Sanjar', 'Sardor', 'Javoxir', 'Sanjar', 'Bobur', 'Ilhom'])\n",
        "names"
      ],
      "metadata": {
        "colab": {
          "base_uri": "https://localhost:8080/"
        },
        "id": "YTIKBy8oevCP",
        "outputId": "c3abe42c-33b7-4b80-bcfa-a36e912ec633"
      },
      "execution_count": 103,
      "outputs": [
        {
          "output_type": "execute_result",
          "data": {
            "text/plain": [
              "array(['Ilhom', 'Sanjar', 'Sardor', 'Javoxir', 'Sanjar', 'Bobur', 'Ilhom'],\n",
              "      dtype='<U7')"
            ]
          },
          "metadata": {},
          "execution_count": 103
        }
      ]
    },
    {
      "cell_type": "code",
      "source": [
        "# data (ushbu dataning har bir qatori mos ravishda names massiviga tegishli deb olamiz)\n",
        "data = np.random.randn(7, 4)\n",
        "data"
      ],
      "metadata": {
        "colab": {
          "base_uri": "https://localhost:8080/"
        },
        "id": "255KslffmykC",
        "outputId": "a3f205d2-c80c-424c-8d79-e8da38da8fd7"
      },
      "execution_count": 104,
      "outputs": [
        {
          "output_type": "execute_result",
          "data": {
            "text/plain": [
              "array([[ 0.29946638, -0.61508398,  0.82702355,  0.52906046],\n",
              "       [ 1.39517785, -0.16409609, -0.12822944, -1.62181584],\n",
              "       [-1.18837096, -1.74420211,  0.20325725,  0.53792712],\n",
              "       [ 1.09650765, -0.28132951, -1.09859781, -0.82956667],\n",
              "       [ 0.16661017, -1.80228825,  0.72827563, -0.9072447 ],\n",
              "       [ 2.47301609,  1.31807481, -1.71451471,  0.77998421],\n",
              "       [-0.03666292,  1.09587661,  0.48668173,  0.50572711]])"
            ]
          },
          "metadata": {},
          "execution_count": 104
        }
      ]
    },
    {
      "cell_type": "code",
      "source": [
        "names == 'Sardor'"
      ],
      "metadata": {
        "colab": {
          "base_uri": "https://localhost:8080/"
        },
        "id": "cQZguOoBnl92",
        "outputId": "efddb0cd-6ba7-46f3-9825-d77a33db12ca"
      },
      "execution_count": 105,
      "outputs": [
        {
          "output_type": "execute_result",
          "data": {
            "text/plain": [
              "array([False, False,  True, False, False, False, False])"
            ]
          },
          "metadata": {},
          "execution_count": 105
        }
      ]
    },
    {
      "cell_type": "code",
      "source": [
        "data[names == 'Sanjar'] # Sanjarga tegishli barcha qatorni ajratib olish"
      ],
      "metadata": {
        "colab": {
          "base_uri": "https://localhost:8080/"
        },
        "id": "VLznHMAZo8ri",
        "outputId": "9425487f-0809-4fe1-a911-e5e5ff058cba"
      },
      "execution_count": 106,
      "outputs": [
        {
          "output_type": "execute_result",
          "data": {
            "text/plain": [
              "array([[ 1.39517785, -0.16409609, -0.12822944, -1.62181584],\n",
              "       [ 0.16661017, -1.80228825,  0.72827563, -0.9072447 ]])"
            ]
          },
          "metadata": {},
          "execution_count": 106
        }
      ]
    },
    {
      "cell_type": "code",
      "source": [
        "data[names == 'Bobur'] # Boburga tegishli barcha qatorni ajratib olish"
      ],
      "metadata": {
        "colab": {
          "base_uri": "https://localhost:8080/"
        },
        "id": "5Yr19MSZpPqD",
        "outputId": "df7292c5-0d58-4343-ff45-0b619926f05f"
      },
      "execution_count": 107,
      "outputs": [
        {
          "output_type": "execute_result",
          "data": {
            "text/plain": [
              "array([[ 2.47301609,  1.31807481, -1.71451471,  0.77998421]])"
            ]
          },
          "metadata": {},
          "execution_count": 107
        }
      ]
    },
    {
      "cell_type": "code",
      "source": [
        "data[names == 'Sanjar'] # Sanjarga tegishli barcha qatorni ajratib olish"
      ],
      "metadata": {
        "colab": {
          "base_uri": "https://localhost:8080/"
        },
        "id": "jDPA0ZzjPhbV",
        "outputId": "6dca20df-5e52-4f8c-8152-832ea9d01035"
      },
      "execution_count": 108,
      "outputs": [
        {
          "output_type": "execute_result",
          "data": {
            "text/plain": [
              "array([[ 1.39517785, -0.16409609, -0.12822944, -1.62181584],\n",
              "       [ 0.16661017, -1.80228825,  0.72827563, -0.9072447 ]])"
            ]
          },
          "metadata": {},
          "execution_count": 108
        }
      ]
    },
    {
      "cell_type": "code",
      "source": [
        "data[names == 'Sanjar', 2:] # Sanjarga tegishli ma'lumotning oxirgi 2 ustunini ajratib olish"
      ],
      "metadata": {
        "colab": {
          "base_uri": "https://localhost:8080/"
        },
        "id": "DH515FXOSvmy",
        "outputId": "143287b2-009d-4722-81e9-92db5f3757ce"
      },
      "execution_count": 109,
      "outputs": [
        {
          "output_type": "execute_result",
          "data": {
            "text/plain": [
              "array([[-0.12822944, -1.62181584],\n",
              "       [ 0.72827563, -0.9072447 ]])"
            ]
          },
          "metadata": {},
          "execution_count": 109
        }
      ]
    },
    {
      "cell_type": "code",
      "source": [
        "data[names != 'Sanjar'] # Sanjarga tegishli bo'lmagan barcha ma'lumotlarni ajratib olish"
      ],
      "metadata": {
        "colab": {
          "base_uri": "https://localhost:8080/"
        },
        "id": "1SJk_RTeTJvB",
        "outputId": "700afa1d-cfa0-4962-fe2d-c7a2b55ad122"
      },
      "execution_count": 110,
      "outputs": [
        {
          "output_type": "execute_result",
          "data": {
            "text/plain": [
              "array([[ 0.29946638, -0.61508398,  0.82702355,  0.52906046],\n",
              "       [-1.18837096, -1.74420211,  0.20325725,  0.53792712],\n",
              "       [ 1.09650765, -0.28132951, -1.09859781, -0.82956667],\n",
              "       [ 2.47301609,  1.31807481, -1.71451471,  0.77998421],\n",
              "       [-0.03666292,  1.09587661,  0.48668173,  0.50572711]])"
            ]
          },
          "metadata": {},
          "execution_count": 110
        }
      ]
    },
    {
      "cell_type": "code",
      "source": [
        "data[~(names == 'Sanjar')] # Yuqoridagi natijani ushbu ushul bilan ham amalga oshirish mumkin"
      ],
      "metadata": {
        "colab": {
          "base_uri": "https://localhost:8080/"
        },
        "id": "jLyPwQCNUmes",
        "outputId": "c93ee5ab-570b-4843-b0ab-8f0dd8ebca35"
      },
      "execution_count": 111,
      "outputs": [
        {
          "output_type": "execute_result",
          "data": {
            "text/plain": [
              "array([[ 0.29946638, -0.61508398,  0.82702355,  0.52906046],\n",
              "       [-1.18837096, -1.74420211,  0.20325725,  0.53792712],\n",
              "       [ 1.09650765, -0.28132951, -1.09859781, -0.82956667],\n",
              "       [ 2.47301609,  1.31807481, -1.71451471,  0.77998421],\n",
              "       [-0.03666292,  1.09587661,  0.48668173,  0.50572711]])"
            ]
          },
          "metadata": {},
          "execution_count": 111
        }
      ]
    },
    {
      "cell_type": "code",
      "source": [
        "print(names)\n",
        "print(data)"
      ],
      "metadata": {
        "colab": {
          "base_uri": "https://localhost:8080/"
        },
        "id": "kVNY5r6RU3CS",
        "outputId": "d9769cda-3891-4161-f41e-ab39ecfd4a29"
      },
      "execution_count": 112,
      "outputs": [
        {
          "output_type": "stream",
          "name": "stdout",
          "text": [
            "['Ilhom' 'Sanjar' 'Sardor' 'Javoxir' 'Sanjar' 'Bobur' 'Ilhom']\n",
            "[[ 0.29946638 -0.61508398  0.82702355  0.52906046]\n",
            " [ 1.39517785 -0.16409609 -0.12822944 -1.62181584]\n",
            " [-1.18837096 -1.74420211  0.20325725  0.53792712]\n",
            " [ 1.09650765 -0.28132951 -1.09859781 -0.82956667]\n",
            " [ 0.16661017 -1.80228825  0.72827563 -0.9072447 ]\n",
            " [ 2.47301609  1.31807481 -1.71451471  0.77998421]\n",
            " [-0.03666292  1.09587661  0.48668173  0.50572711]]\n"
          ]
        }
      ]
    },
    {
      "cell_type": "code",
      "source": [
        "mask = (names == 'Javoxir') | (names == 'Bobur') # Javoxir va Boburga tegishli ma'lumotlarni yagona usul bilan ajratib olish\n",
        "mask"
      ],
      "metadata": {
        "colab": {
          "base_uri": "https://localhost:8080/"
        },
        "id": "WJPGUE8eU9nY",
        "outputId": "a19ab4ec-f482-416f-f7be-c3181290a15d"
      },
      "execution_count": 113,
      "outputs": [
        {
          "output_type": "execute_result",
          "data": {
            "text/plain": [
              "array([False, False, False,  True, False,  True, False])"
            ]
          },
          "metadata": {},
          "execution_count": 113
        }
      ]
    },
    {
      "cell_type": "code",
      "source": [
        "data[mask]"
      ],
      "metadata": {
        "colab": {
          "base_uri": "https://localhost:8080/"
        },
        "id": "ItuIyHuAVLYG",
        "outputId": "d32ff8f6-eb4e-414e-ab81-c8e21ce3f408"
      },
      "execution_count": 114,
      "outputs": [
        {
          "output_type": "execute_result",
          "data": {
            "text/plain": [
              "array([[ 1.09650765, -0.28132951, -1.09859781, -0.82956667],\n",
              "       [ 2.47301609,  1.31807481, -1.71451471,  0.77998421]])"
            ]
          },
          "metadata": {},
          "execution_count": 114
        }
      ]
    },
    {
      "cell_type": "code",
      "source": [
        "data"
      ],
      "metadata": {
        "colab": {
          "base_uri": "https://localhost:8080/"
        },
        "id": "MMRb6k0fVUw-",
        "outputId": "4b1cdeeb-e6bd-4a56-a413-c5b55aecd642"
      },
      "execution_count": 115,
      "outputs": [
        {
          "output_type": "execute_result",
          "data": {
            "text/plain": [
              "array([[ 0.29946638, -0.61508398,  0.82702355,  0.52906046],\n",
              "       [ 1.39517785, -0.16409609, -0.12822944, -1.62181584],\n",
              "       [-1.18837096, -1.74420211,  0.20325725,  0.53792712],\n",
              "       [ 1.09650765, -0.28132951, -1.09859781, -0.82956667],\n",
              "       [ 0.16661017, -1.80228825,  0.72827563, -0.9072447 ],\n",
              "       [ 2.47301609,  1.31807481, -1.71451471,  0.77998421],\n",
              "       [-0.03666292,  1.09587661,  0.48668173,  0.50572711]])"
            ]
          },
          "metadata": {},
          "execution_count": 115
        }
      ]
    },
    {
      "cell_type": "code",
      "source": [
        "data[data<0] # elementlari noldan kichik bo'lgan ma'lumotlarni ajratib olish"
      ],
      "metadata": {
        "colab": {
          "base_uri": "https://localhost:8080/"
        },
        "id": "DZkEAIlbVp2X",
        "outputId": "5367259b-2f94-48c2-9946-765cbf0910fb"
      },
      "execution_count": 116,
      "outputs": [
        {
          "output_type": "execute_result",
          "data": {
            "text/plain": [
              "array([-0.61508398, -0.16409609, -0.12822944, -1.62181584, -1.18837096,\n",
              "       -1.74420211, -0.28132951, -1.09859781, -0.82956667, -1.80228825,\n",
              "       -0.9072447 , -1.71451471, -0.03666292])"
            ]
          },
          "metadata": {},
          "execution_count": 116
        }
      ]
    },
    {
      "cell_type": "code",
      "source": [
        "data[data<0] = 0 # Yuqoridagi ma'lumotlarni 0 ga tenglash\n",
        "data"
      ],
      "metadata": {
        "colab": {
          "base_uri": "https://localhost:8080/"
        },
        "id": "q672WzpfV2iA",
        "outputId": "b5f50736-535f-4ed5-c54f-3e8c45761ebe"
      },
      "execution_count": 117,
      "outputs": [
        {
          "output_type": "execute_result",
          "data": {
            "text/plain": [
              "array([[0.29946638, 0.        , 0.82702355, 0.52906046],\n",
              "       [1.39517785, 0.        , 0.        , 0.        ],\n",
              "       [0.        , 0.        , 0.20325725, 0.53792712],\n",
              "       [1.09650765, 0.        , 0.        , 0.        ],\n",
              "       [0.16661017, 0.        , 0.72827563, 0.        ],\n",
              "       [2.47301609, 1.31807481, 0.        , 0.77998421],\n",
              "       [0.        , 1.09587661, 0.48668173, 0.50572711]])"
            ]
          },
          "metadata": {},
          "execution_count": 117
        }
      ]
    },
    {
      "cell_type": "code",
      "source": [],
      "metadata": {
        "id": "9g248yFNcKZi"
      },
      "execution_count": 117,
      "outputs": []
    }
  ]
}