{
  "nbformat": 4,
  "nbformat_minor": 0,
  "metadata": {
    "colab": {
      "provenance": [],
      "authorship_tag": "ABX9TyOpgVEDdGNkzog2esU1iVcp",
      "include_colab_link": true
    },
    "kernelspec": {
      "name": "python3",
      "display_name": "Python 3"
    },
    "language_info": {
      "name": "python"
    }
  },
  "cells": [
    {
      "cell_type": "markdown",
      "metadata": {
        "id": "view-in-github",
        "colab_type": "text"
      },
      "source": [
        "<a href=\"https://colab.research.google.com/github/Az1mxoja/Colab/blob/main/_2_data_type.ipynb\" target=\"_parent\"><img src=\"https://colab.research.google.com/assets/colab-badge.svg\" alt=\"Open In Colab\"/></a>"
      ]
    },
    {
      "cell_type": "markdown",
      "source": [
        "#Malumot turlari"
      ],
      "metadata": {
        "id": "r2N4GrVhNKI1"
      }
    },
    {
      "cell_type": "code",
      "source": [
        "import numpy as np"
      ],
      "metadata": {
        "id": "tW1EG0LS8EVw"
      },
      "execution_count": 1,
      "outputs": []
    },
    {
      "cell_type": "markdown",
      "source": [
        "- ma'lumot yaratishda ma'lumot turlarini aniq kiritish, \n",
        "\n",
        "- ma'lumot turlarini aniqlash, \n",
        "\n",
        "- bir turdagi ma'lumot turidan ikkinchi turdagi ma'lumot turiga o'girish\n"
      ],
      "metadata": {
        "id": "B6r8_MzVWMzN"
      }
    },
    {
      "cell_type": "code",
      "execution_count": 2,
      "metadata": {
        "id": "Gw73PEuANCb0",
        "colab": {
          "base_uri": "https://localhost:8080/"
        },
        "outputId": "82994e14-5ed9-437c-f6b2-5dff6b4cbd11"
      },
      "outputs": [
        {
          "output_type": "execute_result",
          "data": {
            "text/plain": [
              "array([1., 2., 3.])"
            ]
          },
          "metadata": {},
          "execution_count": 2
        }
      ],
      "source": [
        "arr1 = np.array([1, 2, 3], dtype = np.float64)\n",
        "arr1"
      ]
    },
    {
      "cell_type": "code",
      "source": [
        "arr2 = np.array([1, 2, 3], dtype = np.int32)\n",
        "arr2"
      ],
      "metadata": {
        "colab": {
          "base_uri": "https://localhost:8080/"
        },
        "id": "I1lkndXe8MY5",
        "outputId": "383ec6b0-5c7e-4b3f-ba25-7d11754591bd"
      },
      "execution_count": 3,
      "outputs": [
        {
          "output_type": "execute_result",
          "data": {
            "text/plain": [
              "array([1, 2, 3], dtype=int32)"
            ]
          },
          "metadata": {},
          "execution_count": 3
        }
      ]
    },
    {
      "cell_type": "markdown",
      "source": [
        "`dype` metodi"
      ],
      "metadata": {
        "id": "A7X89RfT8mCE"
      }
    },
    {
      "cell_type": "code",
      "source": [
        "arr1.dtype"
      ],
      "metadata": {
        "colab": {
          "base_uri": "https://localhost:8080/"
        },
        "id": "INTTyXWW8jJc",
        "outputId": "181d1927-2ca8-4a19-b005-4fc7ec29a0cf"
      },
      "execution_count": 5,
      "outputs": [
        {
          "output_type": "execute_result",
          "data": {
            "text/plain": [
              "dtype('float64')"
            ]
          },
          "metadata": {},
          "execution_count": 5
        }
      ]
    },
    {
      "cell_type": "code",
      "source": [
        "arr2.dtype"
      ],
      "metadata": {
        "colab": {
          "base_uri": "https://localhost:8080/"
        },
        "id": "n-oXXquV8sgL",
        "outputId": "0c6515b4-8344-4eef-becc-1bde204b3b23"
      },
      "execution_count": 6,
      "outputs": [
        {
          "output_type": "execute_result",
          "data": {
            "text/plain": [
              "dtype('int32')"
            ]
          },
          "metadata": {},
          "execution_count": 6
        }
      ]
    },
    {
      "cell_type": "markdown",
      "source": [
        "Bir turdagi ma'lumot turidan boshqasiga o'tkazish"
      ],
      "metadata": {
        "id": "8unbgSBl9C0O"
      }
    },
    {
      "cell_type": "code",
      "source": [
        "arr = np.array([1, 2, 3, 4]) # int64\n",
        "arr.dtype"
      ],
      "metadata": {
        "colab": {
          "base_uri": "https://localhost:8080/"
        },
        "id": "lo1IZfSN8upC",
        "outputId": "cb7ba11f-c0e4-4387-f856-7b94362f5f4f"
      },
      "execution_count": 9,
      "outputs": [
        {
          "output_type": "execute_result",
          "data": {
            "text/plain": [
              "dtype('int64')"
            ]
          },
          "metadata": {},
          "execution_count": 9
        }
      ]
    },
    {
      "cell_type": "markdown",
      "source": [
        "`stype` metodi"
      ],
      "metadata": {
        "id": "rsuoc-1j9sV2"
      }
    },
    {
      "cell_type": "code",
      "source": [
        "float_arr = arr.astype(np.float64)\n",
        "float_arr.dtype"
      ],
      "metadata": {
        "colab": {
          "base_uri": "https://localhost:8080/"
        },
        "id": "HyhKDD6V9kZp",
        "outputId": "3b2e4833-9dd3-4649-bd03-c81c414d5e37"
      },
      "execution_count": 10,
      "outputs": [
        {
          "output_type": "execute_result",
          "data": {
            "text/plain": [
              "dtype('float64')"
            ]
          },
          "metadata": {},
          "execution_count": 10
        }
      ]
    },
    {
      "cell_type": "code",
      "source": [
        "float_arr"
      ],
      "metadata": {
        "colab": {
          "base_uri": "https://localhost:8080/"
        },
        "id": "xCh8T4FN-BYz",
        "outputId": "2ec9d4a1-1492-47c7-9038-bb585bd75d67"
      },
      "execution_count": 12,
      "outputs": [
        {
          "output_type": "execute_result",
          "data": {
            "text/plain": [
              "array([1., 2., 3., 4.])"
            ]
          },
          "metadata": {},
          "execution_count": 12
        }
      ]
    },
    {
      "cell_type": "code",
      "source": [
        "floats = np.array([1.5, 2.7, 5.9, 4.6])\n",
        "floats"
      ],
      "metadata": {
        "colab": {
          "base_uri": "https://localhost:8080/"
        },
        "id": "DuWhW7K9-F7z",
        "outputId": "6278b92f-5839-4857-bdce-80fc53006481"
      },
      "execution_count": 16,
      "outputs": [
        {
          "output_type": "execute_result",
          "data": {
            "text/plain": [
              "array([1.5, 2.7, 5.9, 4.6])"
            ]
          },
          "metadata": {},
          "execution_count": 16
        }
      ]
    },
    {
      "cell_type": "markdown",
      "source": [
        "**! ! ! `float64` dan `int64` ga o'girganda yo'qotishlar yuz beradi, ya'ni sonning faqat butun qismini olib qoladi**"
      ],
      "metadata": {
        "id": "o4lhFElBCjie"
      }
    },
    {
      "cell_type": "code",
      "source": [
        "ints = floats.astype(np.int64)\n",
        "ints"
      ],
      "metadata": {
        "colab": {
          "base_uri": "https://localhost:8080/"
        },
        "id": "Z4usiO3d-oHz",
        "outputId": "74a006f9-dad1-4566-c211-3abcd494e425"
      },
      "execution_count": 19,
      "outputs": [
        {
          "output_type": "execute_result",
          "data": {
            "text/plain": [
              "array([1, 2, 5, 4])"
            ]
          },
          "metadata": {},
          "execution_count": 19
        }
      ]
    }
  ]
}
