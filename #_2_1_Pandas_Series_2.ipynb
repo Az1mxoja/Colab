{
  "nbformat": 4,
  "nbformat_minor": 0,
  "metadata": {
    "colab": {
      "provenance": [],
      "authorship_tag": "ABX9TyM77HyTctL113cvGEnHpb38",
      "include_colab_link": true
    },
    "kernelspec": {
      "name": "python3",
      "display_name": "Python 3"
    },
    "language_info": {
      "name": "python"
    }
  },
  "cells": [
    {
      "cell_type": "markdown",
      "metadata": {
        "id": "view-in-github",
        "colab_type": "text"
      },
      "source": [
        "<a href=\"https://colab.research.google.com/github/Az1mxoja/Colab/blob/main/%23_2_1_Pandas_Series_2.ipynb\" target=\"_parent\"><img src=\"https://colab.research.google.com/assets/colab-badge.svg\" alt=\"Open In Colab\"/></a>"
      ]
    },
    {
      "cell_type": "markdown",
      "source": [
        "# Lug'atdan Series yaratish"
      ],
      "metadata": {
        "id": "zoWGA1HV_YEY"
      }
    },
    {
      "cell_type": "code",
      "execution_count": 3,
      "metadata": {
        "id": "dO4N-OnAqEOS"
      },
      "outputs": [],
      "source": [
        "import numpy as np"
      ]
    },
    {
      "cell_type": "code",
      "source": [
        "import pandas as pd"
      ],
      "metadata": {
        "id": "6OyHFCO1qGNt"
      },
      "execution_count": 4,
      "outputs": []
    },
    {
      "cell_type": "code",
      "source": [
        "from pandas import Series"
      ],
      "metadata": {
        "id": "7smlDp8zqIdQ"
      },
      "execution_count": 5,
      "outputs": []
    },
    {
      "cell_type": "code",
      "source": [
        "obj1 = Series([1, 2, 3, 4, 5], ['a)', 'b)', 'c)', 'd)', 'e)'])\n",
        "obj1"
      ],
      "metadata": {
        "colab": {
          "base_uri": "https://localhost:8080/"
        },
        "id": "__x0GfJA_K-h",
        "outputId": "f1c9216c-6aa1-40eb-9ba8-ff058e9aced0"
      },
      "execution_count": 9,
      "outputs": [
        {
          "output_type": "execute_result",
          "data": {
            "text/plain": [
              "a)    1\n",
              "b)    2\n",
              "c)    3\n",
              "d)    4\n",
              "e)    5\n",
              "dtype: int64"
            ]
          },
          "metadata": {},
          "execution_count": 9
        }
      ]
    },
    {
      "cell_type": "code",
      "source": [
        "dict1 = {\n",
        "    \"Malibu\": 35000,\n",
        "    \"Nexia\": 10000,\n",
        "    \"Hyundai\": 46000,\n",
        "    \"BMW\": 75000,\n",
        "    \"Tracker\": 38000\n",
        "}\n",
        "dict1"
      ],
      "metadata": {
        "colab": {
          "base_uri": "https://localhost:8080/"
        },
        "id": "nb6mSb5B_zNI",
        "outputId": "81e8166b-7a12-4a37-fbe7-b6a8e989c129"
      },
      "execution_count": 10,
      "outputs": [
        {
          "output_type": "execute_result",
          "data": {
            "text/plain": [
              "{'Malibu': 35000,\n",
              " 'Nexia': 10000,\n",
              " 'Hyundai': 46000,\n",
              " 'BMW': 75000,\n",
              " 'Tracker': 38000}"
            ]
          },
          "metadata": {},
          "execution_count": 10
        }
      ]
    },
    {
      "cell_type": "code",
      "source": [
        "dict_to_sr = Series(dict1)\n",
        "dict_to_sr"
      ],
      "metadata": {
        "colab": {
          "base_uri": "https://localhost:8080/"
        },
        "id": "k8RqbXHdAtaw",
        "outputId": "ca8c1f82-c33f-4415-d6e6-ef5e454ec2b1"
      },
      "execution_count": 11,
      "outputs": [
        {
          "output_type": "execute_result",
          "data": {
            "text/plain": [
              "Malibu     35000\n",
              "Nexia      10000\n",
              "Hyundai    46000\n",
              "BMW        75000\n",
              "Tracker    38000\n",
              "dtype: int64"
            ]
          },
          "metadata": {},
          "execution_count": 11
        }
      ]
    },
    {
      "cell_type": "code",
      "source": [
        "cars1 = Series(\n",
        "    {\"Malibu\": 35000,\n",
        "    \"Nexia\": 10000,\n",
        "    \"Hyundai\": 46000,\n",
        "    \"BMW\": 75000,\n",
        "    \"Tracker\": 38000}\n",
        "    )\n",
        "cars1"
      ],
      "metadata": {
        "colab": {
          "base_uri": "https://localhost:8080/"
        },
        "id": "m-ohPYwlA2TV",
        "outputId": "2599de82-9658-47df-9831-fb97e61954a9"
      },
      "execution_count": 15,
      "outputs": [
        {
          "output_type": "execute_result",
          "data": {
            "text/plain": [
              "Malibu     35000\n",
              "Nexia      10000\n",
              "Hyundai    46000\n",
              "BMW        75000\n",
              "Tracker    38000\n",
              "dtype: int64"
            ]
          },
          "metadata": {},
          "execution_count": 15
        }
      ]
    },
    {
      "cell_type": "code",
      "source": [
        "np.sort(cars1)"
      ],
      "metadata": {
        "colab": {
          "base_uri": "https://localhost:8080/"
        },
        "id": "e9cjpz0JA8tJ",
        "outputId": "266421dc-448d-4bee-b9e2-ef48201799f6"
      },
      "execution_count": 18,
      "outputs": [
        {
          "output_type": "execute_result",
          "data": {
            "text/plain": [
              "array([10000, 35000, 38000, 46000, 75000])"
            ]
          },
          "metadata": {},
          "execution_count": 18
        }
      ]
    },
    {
      "cell_type": "markdown",
      "source": [
        "### `Series`ni berilgan tartib asosida yaratish"
      ],
      "metadata": {
        "id": "qFfovYDYDiRs"
      }
    },
    {
      "cell_type": "code",
      "source": [
        "# Model bo'yicha tartiblash\n",
        "models = np.sort(cars1.keys())\n",
        "models"
      ],
      "metadata": {
        "colab": {
          "base_uri": "https://localhost:8080/"
        },
        "id": "AoX_8nNaDP_R",
        "outputId": "0972059f-a594-4c85-a11a-8e852d1d9349"
      },
      "execution_count": 22,
      "outputs": [
        {
          "output_type": "execute_result",
          "data": {
            "text/plain": [
              "array(['BMW', 'Hyundai', 'Malibu', 'Nexia', 'Tracker'], dtype=object)"
            ]
          },
          "metadata": {},
          "execution_count": 22
        }
      ]
    },
    {
      "cell_type": "code",
      "source": [
        "srt_cars = Series(cars1, index=models)\n",
        "srt_cars"
      ],
      "metadata": {
        "colab": {
          "base_uri": "https://localhost:8080/"
        },
        "id": "tjZ5IA7SEGHn",
        "outputId": "06fc1ac3-3446-40ae-d5e2-714a94401d6e"
      },
      "execution_count": 21,
      "outputs": [
        {
          "output_type": "execute_result",
          "data": {
            "text/plain": [
              "BMW        75000\n",
              "Hyundai    46000\n",
              "Malibu     35000\n",
              "Nexia      10000\n",
              "Tracker    38000\n",
              "dtype: int64"
            ]
          },
          "metadata": {},
          "execution_count": 21
        }
      ]
    }
  ]
}