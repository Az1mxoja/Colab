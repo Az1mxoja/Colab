{
  "nbformat": 4,
  "nbformat_minor": 0,
  "metadata": {
    "colab": {
      "provenance": [],
      "collapsed_sections": [],
      "authorship_tag": "ABX9TyP1JdqHIeakcHZwGqSmqFtY",
      "include_colab_link": true
    },
    "kernelspec": {
      "name": "python3",
      "display_name": "Python 3"
    },
    "language_info": {
      "name": "python"
    }
  },
  "cells": [
    {
      "cell_type": "markdown",
      "metadata": {
        "id": "view-in-github",
        "colab_type": "text"
      },
      "source": [
        "<a href=\"https://colab.research.google.com/github/Az1mxoja/Colab/blob/main/%23_1_creating_arrays.ipynb\" target=\"_parent\"><img src=\"https://colab.research.google.com/assets/colab-badge.svg\" alt=\"Open In Colab\"/></a>"
      ]
    },
    {
      "cell_type": "code",
      "execution_count": 2,
      "metadata": {
        "id": "ZxvVMtHFMi39"
      },
      "outputs": [],
      "source": [
        "import numpy as np"
      ]
    },
    {
      "cell_type": "markdown",
      "source": [
        "Numpyda massiv yaratishning eng oson yo'llaridan biri bu `array` funksiyasi yordamida amalga oshiriladi. Ushbu funksiya har qanday ketma-ket turdagi ma'lumotlarni qabul qilib, uni yangi Numpy `array`ga o'girib beradi."
      ],
      "metadata": {
        "id": "CeIMBst45Anw"
      }
    },
    {
      "cell_type": "code",
      "source": [
        "data1 = [3.5, 8, 4, 7] # list\n",
        "arr1 = np.array(data1) # array"
      ],
      "metadata": {
        "id": "ACSZdfZFMwJ9"
      },
      "execution_count": 10,
      "outputs": []
    },
    {
      "cell_type": "code",
      "source": [
        "data1\n",
        "arr1"
      ],
      "metadata": {
        "colab": {
          "base_uri": "https://localhost:8080/"
        },
        "id": "9iQKD8w-5-O_",
        "outputId": "79c0cd05-9211-4995-f461-970d0fea8119"
      },
      "execution_count": 6,
      "outputs": [
        {
          "output_type": "execute_result",
          "data": {
            "text/plain": [
              "array([3.5, 8. , 4. , 7. ])"
            ]
          },
          "metadata": {},
          "execution_count": 6
        }
      ]
    },
    {
      "cell_type": "code",
      "source": [
        "data2 = (4, 5, 3.6, 9) # tuple\n",
        "arr2 = np.array(data2) # array"
      ],
      "metadata": {
        "id": "xDV2JAcH6Vde"
      },
      "execution_count": 11,
      "outputs": []
    },
    {
      "cell_type": "code",
      "source": [
        "arr2"
      ],
      "metadata": {
        "colab": {
          "base_uri": "https://localhost:8080/"
        },
        "id": "dPR04Fbi6_7q",
        "outputId": "0819bcac-2d44-43de-fa61-7bd66db10dec"
      },
      "execution_count": 8,
      "outputs": [
        {
          "output_type": "execute_result",
          "data": {
            "text/plain": [
              "array([4. , 5. , 3.6, 9. ])"
            ]
          },
          "metadata": {},
          "execution_count": 8
        }
      ]
    },
    {
      "cell_type": "code",
      "source": [
        "data2"
      ],
      "metadata": {
        "colab": {
          "base_uri": "https://localhost:8080/"
        },
        "id": "c8qG2_F87BQV",
        "outputId": "db4a11da-59b1-431d-e951-83339a95b105"
      },
      "execution_count": 9,
      "outputs": [
        {
          "output_type": "execute_result",
          "data": {
            "text/plain": [
              "(4, 5, 3.6, 9)"
            ]
          },
          "metadata": {},
          "execution_count": 9
        }
      ]
    },
    {
      "cell_type": "markdown",
      "source": [
        "Massivni o'lchash - `.ndim` metodi yordamida amalga oshiriladi"
      ],
      "metadata": {
        "id": "LGeLuaqw7W4I"
      }
    },
    {
      "cell_type": "code",
      "source": [
        "arr1.ndim"
      ],
      "metadata": {
        "colab": {
          "base_uri": "https://localhost:8080/"
        },
        "id": "td8wXZ6s8F6H",
        "outputId": "e2339bcf-98e1-4199-e6ff-b74dabe192aa"
      },
      "execution_count": 12,
      "outputs": [
        {
          "output_type": "execute_result",
          "data": {
            "text/plain": [
              "1"
            ]
          },
          "metadata": {},
          "execution_count": 12
        }
      ]
    },
    {
      "cell_type": "code",
      "source": [
        "arr2.ndim"
      ],
      "metadata": {
        "colab": {
          "base_uri": "https://localhost:8080/"
        },
        "id": "_oyKClck8Qic",
        "outputId": "68e0e4ac-bfa6-44a8-9f32-483354a10d3c"
      },
      "execution_count": 13,
      "outputs": [
        {
          "output_type": "execute_result",
          "data": {
            "text/plain": [
              "1"
            ]
          },
          "metadata": {},
          "execution_count": 13
        }
      ]
    },
    {
      "cell_type": "markdown",
      "source": [
        "ikki va undan katta o'lchamli massivlar"
      ],
      "metadata": {
        "id": "bPHvqw7B1SE9"
      }
    },
    {
      "cell_type": "code",
      "source": [
        "data3 = [[1, 2, 4, 6], [3, 5, 7, 8]]\n",
        "arr3 = np.array(data3)"
      ],
      "metadata": {
        "id": "k3HDcDbl8S2v"
      },
      "execution_count": 14,
      "outputs": []
    },
    {
      "cell_type": "code",
      "source": [
        "arr3"
      ],
      "metadata": {
        "colab": {
          "base_uri": "https://localhost:8080/"
        },
        "id": "r3Bq_j638rtT",
        "outputId": "737abd04-7bae-4981-be80-3856f428b799"
      },
      "execution_count": 15,
      "outputs": [
        {
          "output_type": "execute_result",
          "data": {
            "text/plain": [
              "array([[1, 2, 4, 6],\n",
              "       [3, 5, 7, 8]])"
            ]
          },
          "metadata": {},
          "execution_count": 15
        }
      ]
    },
    {
      "cell_type": "code",
      "source": [
        "arr3.ndim"
      ],
      "metadata": {
        "colab": {
          "base_uri": "https://localhost:8080/"
        },
        "id": "tzg-opgs8tmX",
        "outputId": "714b81c3-7491-4806-92d7-f00260250405"
      },
      "execution_count": 81,
      "outputs": [
        {
          "output_type": "execute_result",
          "data": {
            "text/plain": [
              "2"
            ]
          },
          "metadata": {},
          "execution_count": 81
        }
      ]
    },
    {
      "cell_type": "code",
      "source": [
        "data_3 = [[[1,5,6,7], [2, 23, 21, 63, 0], [42, 63, 8, 25, 11]], [[62, 25, 88, 14, 21], [123, 634, 234, 773], [53, 36, 72, 15, 7]], [[1, 2, 3, 4, 5], [1, 3, 5, 7, 9], [14, 15, 1, 8, 4,]]]\n",
        "arr_3 = np.array([1, 2, 3, [2, 5, 1, 6], 51, 27, 16])\n",
        "\n",
        "arr_3.ndim"
      ],
      "metadata": {
        "colab": {
          "base_uri": "https://localhost:8080/"
        },
        "id": "SFq8aW6A1rZ9",
        "outputId": "6db43bac-aec6-4e2f-80f6-f04ea073e5f0"
      },
      "execution_count": 94,
      "outputs": [
        {
          "output_type": "stream",
          "name": "stderr",
          "text": [
            "/usr/local/lib/python3.7/dist-packages/ipykernel_launcher.py:2: VisibleDeprecationWarning: Creating an ndarray from ragged nested sequences (which is a list-or-tuple of lists-or-tuples-or ndarrays with different lengths or shapes) is deprecated. If you meant to do this, you must specify 'dtype=object' when creating the ndarray.\n",
            "  \n"
          ]
        },
        {
          "output_type": "execute_result",
          "data": {
            "text/plain": [
              "1"
            ]
          },
          "metadata": {},
          "execution_count": 94
        }
      ]
    },
    {
      "cell_type": "markdown",
      "source": [
        "`shape` , `size` metodlari\n",
        "\n",
        "`shape` metodi massivning qator va ustunlar sonini ko'rsatsa, `size` esa massivlardagi elementlar sonini nomoyon etadi"
      ],
      "metadata": {
        "id": "hUwXCx7-EIoR"
      }
    },
    {
      "cell_type": "code",
      "source": [
        "arr3.shape # arr3 ning qator va o'lchamlarini ko'rsatadi"
      ],
      "metadata": {
        "colab": {
          "base_uri": "https://localhost:8080/"
        },
        "id": "xkvkNXL49W1d",
        "outputId": "57deb95e-94dc-4f9f-dec6-07cf3e19127c"
      },
      "execution_count": 54,
      "outputs": [
        {
          "output_type": "execute_result",
          "data": {
            "text/plain": [
              "(2, 4)"
            ]
          },
          "metadata": {},
          "execution_count": 54
        }
      ]
    },
    {
      "cell_type": "code",
      "source": [
        "arr3.size # arr3 ning elementlar soni"
      ],
      "metadata": {
        "colab": {
          "base_uri": "https://localhost:8080/"
        },
        "id": "EMKRiK2eEjfk",
        "outputId": "f003af6d-2c97-4cf4-e9e2-db5790176370"
      },
      "execution_count": 55,
      "outputs": [
        {
          "output_type": "execute_result",
          "data": {
            "text/plain": [
              "8"
            ]
          },
          "metadata": {},
          "execution_count": 55
        }
      ]
    },
    {
      "cell_type": "markdown",
      "source": [
        "N-o'lchamli massivlarni yaratishning boshqa usullari\n",
        "\n",
        "`zero` va `ones` metodlari yordamida massivlar yaratish"
      ],
      "metadata": {
        "id": "j-FiVGL7F-CC"
      }
    },
    {
      "cell_type": "code",
      "source": [
        "arr4 = np.zeros((2, 4)) # barcha elementlari 0 ga teng (2 qator, 4 element)\n",
        "arr4"
      ],
      "metadata": {
        "colab": {
          "base_uri": "https://localhost:8080/"
        },
        "id": "33nAl94NEnZX",
        "outputId": "0d16e7df-6569-4a7e-d600-d853541686ad"
      },
      "execution_count": 35,
      "outputs": [
        {
          "output_type": "execute_result",
          "data": {
            "text/plain": [
              "array([[0., 0., 0., 0.],\n",
              "       [0., 0., 0., 0.]])"
            ]
          },
          "metadata": {},
          "execution_count": 35
        }
      ]
    },
    {
      "cell_type": "code",
      "source": [
        "arr5 = np.ones((2, 4))\n",
        "arr5"
      ],
      "metadata": {
        "colab": {
          "base_uri": "https://localhost:8080/"
        },
        "id": "OxyG3_FMHzj9",
        "outputId": "66d9753f-84fe-444f-bbb7-b100cc763ce0"
      },
      "execution_count": 36,
      "outputs": [
        {
          "output_type": "execute_result",
          "data": {
            "text/plain": [
              "array([[1., 1., 1., 1.],\n",
              "       [1., 1., 1., 1.]])"
            ]
          },
          "metadata": {},
          "execution_count": 36
        }
      ]
    },
    {
      "cell_type": "markdown",
      "source": [
        "`arange` funksiyasi yordamida massiv yaratish"
      ],
      "metadata": {
        "id": "nOK_zm28ILEa"
      }
    },
    {
      "cell_type": "code",
      "source": [
        "arr6 = np.arange(4, 20, 2) # 4 dan 20 gacha bo'lgan qiymatlarni 2 qadam bilan massivga joylab beradi\n",
        "arr6"
      ],
      "metadata": {
        "colab": {
          "base_uri": "https://localhost:8080/"
        },
        "id": "ncRr_swcIIJ4",
        "outputId": "245db123-9dbe-4fa7-a1eb-394430f06590"
      },
      "execution_count": 38,
      "outputs": [
        {
          "output_type": "execute_result",
          "data": {
            "text/plain": [
              "array([ 4,  6,  8, 10, 12, 14, 16, 18])"
            ]
          },
          "metadata": {},
          "execution_count": 38
        }
      ]
    },
    {
      "cell_type": "code",
      "source": [
        "arr7 = np.arange(20) # 0 dan 20 gacha bo'lgan qiymatlarni 1 qadam bilan massivga joylab beradi\n",
        "arr7"
      ],
      "metadata": {
        "colab": {
          "base_uri": "https://localhost:8080/"
        },
        "id": "jR15yKirJIDD",
        "outputId": "342babf3-f6c5-4839-b2c6-362acfb1a122"
      },
      "execution_count": 39,
      "outputs": [
        {
          "output_type": "execute_result",
          "data": {
            "text/plain": [
              "array([ 0,  1,  2,  3,  4,  5,  6,  7,  8,  9, 10, 11, 12, 13, 14, 15, 16,\n",
              "       17, 18, 19])"
            ]
          },
          "metadata": {},
          "execution_count": 39
        }
      ]
    },
    {
      "cell_type": "code",
      "source": [
        "import random"
      ],
      "metadata": {
        "id": "-S8smn6bLAQE"
      },
      "execution_count": 40,
      "outputs": []
    },
    {
      "cell_type": "markdown",
      "source": [
        "`rand` metodi 0 ~ 1 oralig'idagi taxminiy sonni tanlab oladi "
      ],
      "metadata": {
        "id": "n0V6L_OMMvnJ"
      }
    },
    {
      "cell_type": "code",
      "source": [
        "arr8 = np.random.rand(3, 4)\n",
        "arr8"
      ],
      "metadata": {
        "colab": {
          "base_uri": "https://localhost:8080/"
        },
        "id": "cmv4XQhCLEb-",
        "outputId": "b08e216f-bfc7-4fa4-b10b-986eee90eb59"
      },
      "execution_count": 78,
      "outputs": [
        {
          "output_type": "execute_result",
          "data": {
            "text/plain": [
              "array([[0.28435175, 0.02212355, 0.53132347, 0.31623812],\n",
              "       [0.24235383, 0.28977545, 0.66460464, 0.40796355],\n",
              "       [0.87386167, 0.47778768, 0.73211455, 0.05352691]])"
            ]
          },
          "metadata": {},
          "execution_count": 78
        }
      ]
    },
    {
      "cell_type": "code",
      "source": [
        "arr8 = np.random.randint(10, size=(3, 5))\n",
        "arr8"
      ],
      "metadata": {
        "colab": {
          "base_uri": "https://localhost:8080/"
        },
        "id": "pnA0M1jeulzn",
        "outputId": "eeecd132-aea0-490b-a598-3256f5c05fc5"
      },
      "execution_count": 80,
      "outputs": [
        {
          "output_type": "execute_result",
          "data": {
            "text/plain": [
              "array([[2, 4, 1, 2, 3],\n",
              "       [1, 9, 7, 2, 3],\n",
              "       [7, 2, 5, 9, 0]])"
            ]
          },
          "metadata": {},
          "execution_count": 80
        }
      ]
    }
  ]
}