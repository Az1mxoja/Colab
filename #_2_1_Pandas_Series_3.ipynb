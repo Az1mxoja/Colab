{
  "nbformat": 4,
  "nbformat_minor": 0,
  "metadata": {
    "colab": {
      "provenance": [],
      "authorship_tag": "ABX9TyOY5IgYtxR7SUm092OpQlqH",
      "include_colab_link": true
    },
    "kernelspec": {
      "name": "python3",
      "display_name": "Python 3"
    },
    "language_info": {
      "name": "python"
    }
  },
  "cells": [
    {
      "cell_type": "markdown",
      "metadata": {
        "id": "view-in-github",
        "colab_type": "text"
      },
      "source": [
        "<a href=\"https://colab.research.google.com/github/Az1mxoja/Colab/blob/main/%23_2_1_Pandas_Series_3.ipynb\" target=\"_parent\"><img src=\"https://colab.research.google.com/assets/colab-badge.svg\" alt=\"Open In Colab\"/></a>"
      ]
    },
    {
      "cell_type": "code",
      "execution_count": 1,
      "metadata": {
        "id": "Av09T2wpK0FV"
      },
      "outputs": [],
      "source": [
        "import numpy as np"
      ]
    },
    {
      "cell_type": "code",
      "source": [
        "import pandas as pd"
      ],
      "metadata": {
        "id": "JtGJ7NGdK8kf"
      },
      "execution_count": 2,
      "outputs": []
    },
    {
      "cell_type": "code",
      "source": [
        "from pandas import Series"
      ],
      "metadata": {
        "id": "ceLLfB5DK99h"
      },
      "execution_count": 3,
      "outputs": []
    },
    {
      "cell_type": "code",
      "source": [
        "cars_dict = {\n",
        "    \"Malibu\": 30000,\n",
        "    \"Captiva\": 40000,\n",
        "    \"Hyundai\": 38000,\n",
        "    \"Mercedes\": 60000,\n",
        "    \"Tracker\": 32000,\n",
        "    \"Toyota\": 45000\n",
        "}\n",
        "cars_dict"
      ],
      "metadata": {
        "colab": {
          "base_uri": "https://localhost:8080/"
        },
        "id": "VFevJ9NqLAvK",
        "outputId": "5fb7aaff-d036-4208-b729-d313e5254aef"
      },
      "execution_count": 4,
      "outputs": [
        {
          "output_type": "execute_result",
          "data": {
            "text/plain": [
              "{'Malibu': 30000,\n",
              " 'Captiva': 40000,\n",
              " 'Hyundai': 38000,\n",
              " 'Mercedes': 60000,\n",
              " 'Tracker': 32000,\n",
              " 'Toyota': 45000}"
            ]
          },
          "metadata": {},
          "execution_count": 4
        }
      ]
    },
    {
      "cell_type": "code",
      "source": [
        "cars1 = Series(cars_dict)\n",
        "cars1"
      ],
      "metadata": {
        "colab": {
          "base_uri": "https://localhost:8080/"
        },
        "id": "Fk-0nQAFLmS6",
        "outputId": "74f50f52-8f27-4784-a46f-5e05bf9e2149"
      },
      "execution_count": 5,
      "outputs": [
        {
          "output_type": "execute_result",
          "data": {
            "text/plain": [
              "Malibu      30000\n",
              "Captiva     40000\n",
              "Hyundai     38000\n",
              "Mercedes    60000\n",
              "Tracker     32000\n",
              "Toyota      45000\n",
              "dtype: int64"
            ]
          },
          "metadata": {},
          "execution_count": 5
        }
      ]
    },
    {
      "cell_type": "code",
      "source": [
        "models = cars_dict.keys()\n",
        "models"
      ],
      "metadata": {
        "colab": {
          "base_uri": "https://localhost:8080/"
        },
        "id": "qWzOxPR3L07p",
        "outputId": "60f89404-768c-4e09-ad20-c5c7dbe1d031"
      },
      "execution_count": 6,
      "outputs": [
        {
          "output_type": "execute_result",
          "data": {
            "text/plain": [
              "dict_keys(['Malibu', 'Captiva', 'Hyundai', 'Mercedes', 'Tracker', 'Toyota'])"
            ]
          },
          "metadata": {},
          "execution_count": 6
        }
      ]
    },
    {
      "cell_type": "code",
      "source": [
        "models1 = np.array(models)\n",
        "models1"
      ],
      "metadata": {
        "colab": {
          "base_uri": "https://localhost:8080/"
        },
        "id": "hlYw6-rZM7J2",
        "outputId": "df354b97-85a3-4fbe-8b4e-20a743a8984b"
      },
      "execution_count": 7,
      "outputs": [
        {
          "output_type": "execute_result",
          "data": {
            "text/plain": [
              "array(dict_keys(['Malibu', 'Captiva', 'Hyundai', 'Mercedes', 'Tracker', 'Toyota']),\n",
              "      dtype=object)"
            ]
          },
          "metadata": {},
          "execution_count": 7
        }
      ]
    },
    {
      "cell_type": "code",
      "source": [
        "fruits1 = {\n",
        "    \"Olma\": 6000,\n",
        "    \"Banan\": 19000,\n",
        "    \"Kivi\": 18000,\n",
        "    \"Mandarin\": 12000,\n",
        "    \"Apelsin\": 20000,\n",
        "    \"Ananas\": 48000\n",
        "}\n",
        "fruits1"
      ],
      "metadata": {
        "colab": {
          "base_uri": "https://localhost:8080/"
        },
        "id": "lICvSw9INk-u",
        "outputId": "f587540d-3055-4853-d50c-d8d9888a121b"
      },
      "execution_count": 9,
      "outputs": [
        {
          "output_type": "execute_result",
          "data": {
            "text/plain": [
              "{'Olma': 6000,\n",
              " 'Banan': 19000,\n",
              " 'Kivi': 18000,\n",
              " 'Mandarin': 12000,\n",
              " 'Apelsin': 20000,\n",
              " 'Ananas': 48000}"
            ]
          },
          "metadata": {},
          "execution_count": 9
        }
      ]
    },
    {
      "cell_type": "code",
      "source": [
        "sr_fruits1 = Series(fruits1)\n",
        "sr_fruits1"
      ],
      "metadata": {
        "colab": {
          "base_uri": "https://localhost:8080/"
        },
        "id": "ve7DZ963t10k",
        "outputId": "1f856634-f1df-4547-d23b-99e9ef233763"
      },
      "execution_count": 10,
      "outputs": [
        {
          "output_type": "execute_result",
          "data": {
            "text/plain": [
              "Olma         6000\n",
              "Banan       19000\n",
              "Kivi        18000\n",
              "Mandarin    12000\n",
              "Apelsin     20000\n",
              "Ananas      48000\n",
              "dtype: int64"
            ]
          },
          "metadata": {},
          "execution_count": 10
        }
      ]
    },
    {
      "cell_type": "code",
      "source": [
        "dic_fruits1 = dict(sr_fruits1)\n",
        "dic_fruits1"
      ],
      "metadata": {
        "colab": {
          "base_uri": "https://localhost:8080/"
        },
        "id": "xVTTCBKFt_ZF",
        "outputId": "87340cd8-a0ad-46a4-bea5-3a2094391639"
      },
      "execution_count": 11,
      "outputs": [
        {
          "output_type": "execute_result",
          "data": {
            "text/plain": [
              "{'Olma': 6000,\n",
              " 'Banan': 19000,\n",
              " 'Kivi': 18000,\n",
              " 'Mandarin': 12000,\n",
              " 'Apelsin': 20000,\n",
              " 'Ananas': 48000}"
            ]
          },
          "metadata": {},
          "execution_count": 11
        }
      ]
    },
    {
      "cell_type": "code",
      "source": [],
      "metadata": {
        "id": "NknUMyBuuKGW"
      },
      "execution_count": null,
      "outputs": []
    }
  ]
}