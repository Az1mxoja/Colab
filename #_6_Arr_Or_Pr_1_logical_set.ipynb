{
  "nbformat": 4,
  "nbformat_minor": 0,
  "metadata": {
    "colab": {
      "provenance": [],
      "authorship_tag": "ABX9TyMa4Uk4KIOwrSo7ANccFoDv",
      "include_colab_link": true
    },
    "kernelspec": {
      "name": "python3",
      "display_name": "Python 3"
    },
    "language_info": {
      "name": "python"
    }
  },
  "cells": [
    {
      "cell_type": "markdown",
      "metadata": {
        "id": "view-in-github",
        "colab_type": "text"
      },
      "source": [
        "<a href=\"https://colab.research.google.com/github/Az1mxoja/Colab/blob/main/%23_6_Arr_Or_Pr_1_logical_set.ipynb\" target=\"_parent\"><img src=\"https://colab.research.google.com/assets/colab-badge.svg\" alt=\"Open In Colab\"/></a>"
      ]
    },
    {
      "cell_type": "markdown",
      "source": [
        "Mantiqiy shart operatorlarini massiv operator sifatida qo'llash"
      ],
      "metadata": {
        "id": "D0opj3KzKt9V"
      }
    },
    {
      "cell_type": "code",
      "execution_count": 2,
      "metadata": {
        "id": "ivNQgqxIIMGG"
      },
      "outputs": [],
      "source": [
        "import numpy as np"
      ]
    },
    {
      "cell_type": "markdown",
      "source": [
        "Shart operatori sifatida `where`dan foydalanish"
      ],
      "metadata": {
        "id": "n_aLQDptfQtn"
      }
    },
    {
      "cell_type": "markdown",
      "source": [
        "`x_arr` va `y_arr` massiv ma'lumotlariga `True`ni qanoatlantirsa `x_arr` elementini qabul qilgan, aksincha esa `y_arr` elementini qabul qilgan yangi massiv hosil qilinsin"
      ],
      "metadata": {
        "id": "__g-9MROfXF-"
      }
    },
    {
      "cell_type": "code",
      "source": [
        "x_arr = np.array([1.1, 1.2, 1.3, 1.4, 1.5])\n",
        "y_arr = np.array([2.1, 2.2, 2.3, 2.4, 2.5])"
      ],
      "metadata": {
        "id": "GWbXlFfBK-U0"
      },
      "execution_count": 3,
      "outputs": []
    },
    {
      "cell_type": "code",
      "source": [
        "cond = np.array([True, False, True, True, False])"
      ],
      "metadata": {
        "id": "3Qqxxf1MibEp"
      },
      "execution_count": 4,
      "outputs": []
    },
    {
      "cell_type": "code",
      "source": [
        "result = np.where(cond, x_arr, y_arr)\n",
        "result"
      ],
      "metadata": {
        "colab": {
          "base_uri": "https://localhost:8080/"
        },
        "id": "J1JpIWODioPf",
        "outputId": "5fda2534-f538-424f-e8d4-c24b2fa3e08a"
      },
      "execution_count": 5,
      "outputs": [
        {
          "output_type": "execute_result",
          "data": {
            "text/plain": [
              "array([1.1, 2.2, 1.3, 1.4, 2.5])"
            ]
          },
          "metadata": {},
          "execution_count": 5
        }
      ]
    },
    {
      "cell_type": "code",
      "source": [
        "arr1 = np.random.randn(4, 4) # (4, 4) taxminiy massiv\n",
        "arr1"
      ],
      "metadata": {
        "colab": {
          "base_uri": "https://localhost:8080/"
        },
        "id": "Gpm5shuFizBd",
        "outputId": "b6fcf13f-5580-43aa-8d84-379ce19c3328"
      },
      "execution_count": 6,
      "outputs": [
        {
          "output_type": "execute_result",
          "data": {
            "text/plain": [
              "array([[ 2.41717984, -1.82160165,  1.06176989, -0.36131603],\n",
              "       [ 0.70686904, -0.7282727 , -1.05602484,  0.36741653],\n",
              "       [-0.15518173,  0.07653328,  1.78468086, -2.49819288],\n",
              "       [ 1.03566737, -0.64870937,  1.13607391, -1.50927813]])"
            ]
          },
          "metadata": {},
          "execution_count": 6
        }
      ]
    },
    {
      "cell_type": "code",
      "source": [
        "result1 = np.where(arr1<0, -2, 2)\n",
        "result1"
      ],
      "metadata": {
        "colab": {
          "base_uri": "https://localhost:8080/"
        },
        "id": "W0RhooVQjm_R",
        "outputId": "67bee0d6-a2a9-40b0-fc76-640115048334"
      },
      "execution_count": 8,
      "outputs": [
        {
          "output_type": "execute_result",
          "data": {
            "text/plain": [
              "array([[ 2, -2,  2, -2],\n",
              "       [ 2, -2, -2,  2],\n",
              "       [-2,  2,  2, -2],\n",
              "       [ 2, -2,  2, -2]])"
            ]
          },
          "metadata": {},
          "execution_count": 8
        }
      ]
    },
    {
      "cell_type": "code",
      "source": [],
      "metadata": {
        "id": "ITGY-cCbkhMi"
      },
      "execution_count": null,
      "outputs": []
    }
  ]
}